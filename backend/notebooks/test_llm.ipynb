{
 "cells": [
  {
   "cell_type": "markdown",
   "id": "23e0939a",
   "metadata": {
    "vscode": {
     "languageId": "plaintext"
    }
   },
   "source": [
    "# CBorg LLM Test Notebook\n",
    "\n",
    "Test the CBorg API connection and model availability for the ECM Extractor workshop."
   ]
  },
  {
   "cell_type": "markdown",
   "id": "ouw3mgbvehp",
   "metadata": {},
   "source": [
    "## Setup: Add parent directory to path"
   ]
  },
  {
   "cell_type": "code",
   "execution_count": 3,
   "id": "3p1fkmuxp17",
   "metadata": {},
   "outputs": [
    {
     "name": "stdout",
     "output_type": "stream",
     "text": [
      "Added to path: /Users/hanli/Documents/GitHub/tsbyq-workshop-2025/backend\n"
     ]
    }
   ],
   "source": [
    "import sys\n",
    "from pathlib import Path\n",
    "\n",
    "# Add backend directory to path\n",
    "backend_dir = Path.cwd().parent\n",
    "sys.path.insert(0, str(backend_dir))\n",
    "\n",
    "print(f\"Added to path: {backend_dir}\")"
   ]
  },
  {
   "cell_type": "markdown",
   "id": "buz9wn36taa",
   "metadata": {},
   "source": [
    "## 1. Check Environment Variables"
   ]
  },
  {
   "cell_type": "code",
   "execution_count": 4,
   "id": "93jyaxsqohs",
   "metadata": {},
   "outputs": [
    {
     "name": "stdout",
     "output_type": "stream",
     "text": [
      "API Key present: Yes\n",
      "API Key length: 25\n",
      "Base URL: https://api.cborg.lbl.gov\n"
     ]
    }
   ],
   "source": [
    "import os\n",
    "from dotenv import load_dotenv\n",
    "\n",
    "# Load .env from backend directory\n",
    "env_path = backend_dir / \".env\"\n",
    "load_dotenv(env_path)\n",
    "\n",
    "api_key = os.getenv(\"CBORG_API_KEY\")\n",
    "base_url = os.getenv(\"CBORG_BASE_URL\", \"https://api.cborg.lbl.gov\")\n",
    "\n",
    "print(f\"API Key present: {'Yes' if api_key else 'No'}\")\n",
    "print(f\"API Key length: {len(api_key) if api_key else 0}\")\n",
    "print(f\"Base URL: {base_url}\")"
   ]
  },
  {
   "cell_type": "markdown",
   "id": "saa7xppfgj",
   "metadata": {},
   "source": [
    "## 2. List Available Models\n",
    "\n",
    "Check what models are available for your API key."
   ]
  },
  {
   "cell_type": "code",
   "execution_count": 5,
   "id": "qqgyb33rvao",
   "metadata": {},
   "outputs": [],
   "source": [
    "import requests\n",
    "\n",
    "def list_available_models(api_key, base_url):\n",
    "    \"\"\"List all available models for the API key.\"\"\"\n",
    "    url = f\"{base_url}/v1/models\"\n",
    "    headers = {\n",
    "        \"Authorization\": f\"Bearer {api_key}\",\n",
    "        \"Content-Type\": \"application/json\",\n",
    "    }\n",
    "    \n",
    "    try:\n",
    "        response = requests.get(url, headers=headers, timeout=10)\n",
    "        response.raise_for_status()\n",
    "        data = response.json()\n",
    "        \n",
    "        print(\"\\n=== Available Models ===\")\n",
    "        if \"data\" in data:\n",
    "            for model in data[\"data\"]:\n",
    "                model_id = model.get(\"id\", \"unknown\")\n",
    "                print(f\"  - {model_id}\")\n",
    "            return [m[\"id\"] for m in data[\"data\"]]\n",
    "        else:\n",
    "            print(\"Response:\", data)\n",
    "            return []\n",
    "    except Exception as e:\n",
    "        print(f\"Error listing models: {e}\")\n",
    "        return []\n",
    "\n",
    "# available_models = list_available_models(api_key, base_url)"
   ]
  },
  {
   "cell_type": "markdown",
   "id": "30d67rla794",
   "metadata": {},
   "source": [
    "## 3. Test CBorg LLM Client\n",
    "\n",
    "Test the simplified CBorg client from our workshop code."
   ]
  },
  {
   "cell_type": "code",
   "execution_count": 6,
   "id": "t1609z0fr7",
   "metadata": {},
   "outputs": [
    {
     "data": {
      "text/plain": [
       "'Hello! 👋 How can I help you today?'"
      ]
     },
     "execution_count": 6,
     "metadata": {},
     "output_type": "execute_result"
    }
   ],
   "source": [
    "from ecm_extraction.llm_clients import CBorgLLMClient\n",
    "\n",
    "\n",
    "client = CBorgLLMClient()\n",
    "client.chat(\"Hi\")"
   ]
  },
  {
   "cell_type": "markdown",
   "id": "lslq3nzl8",
   "metadata": {},
   "source": [
    "## 4. Test with Different Models\n",
    "\n",
    "Try different models to find which one works with your API key."
   ]
  },
  {
   "cell_type": "code",
   "execution_count": null,
   "id": "h3v3tl2n8eu",
   "metadata": {},
   "outputs": [],
   "source": [
    "# Test message\n",
    "test_messages = [\n",
    "    {\"role\": \"system\", \"content\": \"You are a helpful assistant.\"},\n",
    "    {\"role\": \"user\", \"content\": \"Say 'Hello, CBorg API is working!' in exactly those words.\"}\n",
    "]\n",
    "\n",
    "# Models to test\n",
    "test_models = available_models if available_models else [\n",
    "    \"google/gemini-1.5-flash\",\n",
    "    \"google/gemini-flash\", \n",
    "    \"google/gemini-1.5-pro\",\n",
    "    \"google/gemini-pro\",\n",
    "]\n",
    "\n",
    "print(\"\\nTesting models...\\n\")\n",
    "working_model = None\n",
    "\n",
    "for model_name in test_models:\n",
    "    print(f\"Trying: {model_name}\")\n",
    "    try:\n",
    "        response = client.chat_completion(test_messages, model=model_name, temperature=0.0)\n",
    "        print(f\"  ✅ SUCCESS\")\n",
    "        print(f\"  Response: {response[:80]}...\")\n",
    "        working_model = model_name\n",
    "        break\n",
    "    except Exception as e:\n",
    "        error_str = str(e)\n",
    "        if \"400\" in error_str or \"Invalid model\" in error_str:\n",
    "            print(f\"  ❌ Model not available\")\n",
    "        else:\n",
    "            print(f\"  ❌ Error: {error_str[:100]}\")\n",
    "\n",
    "if working_model:\n",
    "    print(f\"\\n🎉 WORKING MODEL FOUND: {working_model}\")\n",
    "    print(f\"\\nUpdate backend/ecm_extraction/llm_clients.py line 17 to:\")\n",
    "    print(f'    default_model: str = \"{working_model}\",')\n",
    "else:\n",
    "    print(\"\\n❌ No working model found. Check your API key and available models.\")"
   ]
  }
 ],
 "metadata": {
  "kernelspec": {
   "display_name": "backend",
   "language": "python",
   "name": "python3"
  },
  "language_info": {
   "codemirror_mode": {
    "name": "ipython",
    "version": 3
   },
   "file_extension": ".py",
   "mimetype": "text/x-python",
   "name": "python",
   "nbconvert_exporter": "python",
   "pygments_lexer": "ipython3",
   "version": "3.12.8"
  }
 },
 "nbformat": 4,
 "nbformat_minor": 5
}
